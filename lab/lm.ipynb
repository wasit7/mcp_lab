{
 "cells": [
  {
   "cell_type": "code",
   "execution_count": 3,
   "id": "78cb522d-fea9-416b-bafe-28bf5d776782",
   "metadata": {},
   "outputs": [],
   "source": [
    "# pip install openai"
   ]
  },
  {
   "cell_type": "code",
   "execution_count": null,
   "id": "e68d3f55-a643-4dd8-8c2c-b21af7c4d163",
   "metadata": {},
   "outputs": [],
   "source": [
    "# https://github.com/ollama/ollama/blob/main/docs/openai.md"
   ]
  },
  {
   "cell_type": "code",
   "execution_count": 47,
   "id": "82ed8e0e-6f92-4570-be02-29bb987f25be",
   "metadata": {},
   "outputs": [
    {
     "data": {
      "text/plain": [
       "[Model(id='qwen3:4b', created=1746364739, object='model', owned_by='library'),\n",
       " Model(id='qwen3:1.7b', created=1746364686, object='model', owned_by='library'),\n",
       " Model(id='gemma3:1b', created=1746364211, object='model', owned_by='library'),\n",
       " Model(id='gemma3:12b', created=1746364043, object='model', owned_by='library'),\n",
       " Model(id='gemma3:4b', created=1746363589, object='model', owned_by='library'),\n",
       " Model(id='all-minilm:latest', created=1746363292, object='model', owned_by='library'),\n",
       " Model(id='mistral:latest', created=1746259941, object='model', owned_by='library'),\n",
       " Model(id='qwen2.5:latest', created=1746259571, object='model', owned_by='library'),\n",
       " Model(id='llama3.2:latest', created=1746259431, object='model', owned_by='library')]"
      ]
     },
     "execution_count": 47,
     "metadata": {},
     "output_type": "execute_result"
    }
   ],
   "source": [
    "from openai import OpenAI\n",
    "\n",
    "client = OpenAI(\n",
    "    base_url='http://localhost:11434/v1/',\n",
    "\n",
    "    # required but ignored\n",
    "    api_key='pass',\n",
    ")\n",
    "\n",
    "list_completion = client.models.list()\n",
    "list_completion.data"
   ]
  },
  {
   "cell_type": "code",
   "execution_count": null,
   "id": "f60690a7-9668-4c7c-b833-ba2c5b024381",
   "metadata": {},
   "outputs": [],
   "source": [
    "# mistral\n",
    "# qwen2.5\n",
    "# llama3.2"
   ]
  },
  {
   "cell_type": "code",
   "execution_count": 36,
   "id": "86757b21-cdbd-4d95-bbda-acbac9f6a0b5",
   "metadata": {},
   "outputs": [
    {
     "data": {
      "text/plain": [
       "ChatCompletion(id='chatcmpl-773', choices=[Choice(finish_reason='stop', index=0, logprobs=None, message=ChatCompletionMessage(content=' The question about the meaning of life is a philosophical and metaphysical question that has been debated throughout history, and there is no one definitive answer. Various cultural, historical, and religious traditions present their own perspectives on what gives life its purpose or meaning. Some people find meaning in love, family, friendship, creativity, personal growth, or the pursuit of knowledge. Other philosophical concepts, like existence for the sake of reason or the greater good, are also used to define the meaning of life. Ultimately, each person must decide for themselves what provides them with a sense of purpose and fulfillment in their own lives.', refusal=None, role='assistant', annotations=None, audio=None, function_call=None, tool_calls=None))], created=1746364038, model='mistral', object='chat.completion', service_tier=None, system_fingerprint='fp_ollama', usage=CompletionUsage(completion_tokens=132, prompt_tokens=12, total_tokens=144, completion_tokens_details=None, prompt_tokens_details=None))"
      ]
     },
     "execution_count": 36,
     "metadata": {},
     "output_type": "execute_result"
    }
   ],
   "source": [
    "chat_completion = client.chat.completions.create(\n",
    "    messages=[\n",
    "        {'role': 'user', 'content': 'what is the meaning of life?',}\n",
    "    ],\n",
    "    model='mistral',\n",
    ")\n",
    "chat_completion"
   ]
  },
  {
   "cell_type": "code",
   "execution_count": 49,
   "id": "257dd5ad-ebc2-475b-8aeb-b466cf08f3df",
   "metadata": {},
   "outputs": [
    {
     "data": {
      "text/plain": [
       "Completion(id='cmpl-908', choices=[CompletionChoice(finish_reason='stop', index=0, logprobs=None, text=\"Okay, let's tackle the big question – the meaning of life. This is a question that’s been pondered by philosophers, theologians, scientists, and everyday people for millennia, and there’s no *single* definitive answer. The truth is, **there isn’t one universally agreed-upon meaning.** However, that doesn’t mean it doesn’t exist! It's something we individually define.\\n\\nHere's a breakdown of different perspectives and ideas, grouped into categories:\\n\\n**1. Philosophical Perspectives:**\\n\\n* **Nihilism:** This view suggests that life is inherently meaningless. There is no objective purpose or value.\\n* **Existentialism:**  This philosophy emphasizes individual freedom and responsibility. We are born into a meaningless universe and must create our own meaning through our choices and actions. Thinkers like Sartre and Camus explore this idea.\\n* **Absurdism:**  Similar to existentialism, it acknowledges the conflict between our human desire for meaning and the meaningless universe.  We must embrace this absurdity and find joy and purpose in acting despite it.\\n* **Hedonism:** The belief that pleasure and happiness are the ultimate goals of life.\\n* **Utilitarianism:**  The idea that actions should be guided by maximizing overall happiness and well-being for the greatest number of people.  Meaning could be found in contributing to that happiness.\\n* **Stoicism:** Focuses on virtue, reason, and acceptance of what we cannot control. Meaning comes from living in accordance with nature and living a virtuous life.\\n\\n**2. Religious & Spiritual Perspectives:**\\n\\n* **Many religions offer meaning through:**\\n    * **Serving a Higher Power:**  Finding purpose through devotion to a God or gods.\\n    * **Spiritual Growth & Transcendence:**  Seeking enlightenment, union with the divine, or achieving a higher state of consciousness.\\n    * **Following a Moral Code:** Living according to divine law and achieving a righteous life.\\n* **Buddhism:**  Focuses on overcoming suffering through enlightenment and achieving Nirvana – a state of peace and liberation.\\n* **Hinduism:** Emphasizes dharma (righteous conduct), karma (cause and effect), and striving for moksha (liberation from the cycle of rebirth).\\n\\n**3. Humanistic & Psychological Perspectives:**\\n\\n* **Self-Actualization (Maslow):**  This suggests that we strive to fulfill our potential as individuals and become the best version of ourselves.\\n* **Relationships & Connection:** Many people find meaning in their relationships with others – family, friends, romantic partners.\\n* **Contributing to Something Larger Than Yourself:** This could involve contributing to your community, saving the planet, helping those in need, or leaving a legacy.\\n* **Learning & Growth:** The pursuit of knowledge, skills, and personal development can provide a sense of purpose.\\n* **Experiencing Joy & Beauty:** Appreciating art, nature, and other pleasurable experiences can contribute to a fulfilling life.\\n\\n\\n**Ultimately, the meaning of life is often what *you* make it.** It’s not something to be found, but something to be created. Here are a few questions to help guide your own search:\\n\\n* **What brings you joy and fulfillment?**\\n* **What do you care about?** (e.g., justice, creativity, nature, family, knowledge)\\n* **What impact do you want to have on the world?**\\n* **What kind of legacy do you want to leave behind?**\\n\\n**It’s worth recognizing that the search for meaning is a lifelong process.** It's okay to question, explore, and change your beliefs along the way.\\n\\n**Resources for Further Thought:**\\n\\n* **Stanford Encyclopedia of Philosophy:** [https://plato.stanford.edu/entries/meaning-of-life/](https://plato.stanford.edu/entries/meaning-of-life/)\\n* **Psychology Today:** [https://www.psychologytoday.com/us/blog/meaning-life-why-do-we-do-what-we-do](https://www.psychologytoday.com/us/blog/meaning-life-why-we-do-what-we-do)\\n\\n\\n---\\n\\nTo help me tailor my response even further, could you tell me:\\n\\n*   **What are you hoping to get out of this discussion?** (e.g., a philosophical perspective, a spiritual insight, or just some general ideas?)\")], created=1746365030, model='gemma3:1b', object='text_completion', system_fingerprint='fp_ollama', usage=CompletionUsage(completion_tokens=933, prompt_tokens=16, total_tokens=949, completion_tokens_details=None, prompt_tokens_details=None))"
      ]
     },
     "execution_count": 49,
     "metadata": {},
     "output_type": "execute_result"
    }
   ],
   "source": [
    "completion = client.completions.create(\n",
    "    model=\"gemma3:1b\",\n",
    "    prompt=\"what is the meaning of life?\",\n",
    ")\n",
    "completion\n"
   ]
  },
  {
   "cell_type": "code",
   "execution_count": 50,
   "id": "2228ec4a-c9ee-4cb7-a4d7-2edcbd8e3ec8",
   "metadata": {},
   "outputs": [
    {
     "data": {
      "text/plain": [
       "Completion(id='cmpl-557', choices=[CompletionChoice(finish_reason='stop', index=0, logprobs=None, text='<think>\\nOkay, so the user is asking, \"What is the meaning of life?\" That\\'s a big question. Let me think about how to approach this.\\n\\nFirst, I need to acknowledge that the meaning of life is subjective. Different people might have different answers. Some might look for religion or spiritual guides, while others might find it in personal experiences or philosophical perspectives. \\n\\nI should start by mentioning that there\\'s no single answer. Maybe list some common viewpoints: existentialist, religious, philosophical, and practical approaches. For example, existentialists like Sartre say life has no inherent meaning, so we create our own. Religious perspectives might include creation myths or divine purpose.\\n\\nAlso, consider the importance of perspective. The meaning can be found in small things like relationships, hobbies, personal goals. Maybe talk about how it\\'s about how we live and what we value. \\n\\nI need to make sure not to give a definitive answer but rather encourage the user to reflect on their own experiences. Maybe include that it\\'s a personal journey and there\\'s no right or wrong answer. \\n\\nCheck if there are any cultural or philosophical viewpoints I should mention. For example, Eastern philosophies like Buddhism emphasize detachment and mindfulness, while others might focus on community and purpose. \\n\\nAlso, remind the user that the search for meaning is part of the human experience and can be both a source of comfort and stress. \\n\\nAvoid making the answer too simplistic. There\\'s a lot to it, and different people have different interpretations. \\n\\nMake sure the tone is inclusive and respectful, acknowledging that everyone\\'s path is unique. Maybe end with a note about how the meaning of life is a personal exploration.\\n</think>\\n\\nThe question of the *meaning of life* is one of the most profound and personal inquiries humanity has ever faced. While there are no universally accepted answers, the search for meaning is deeply human and can take many forms. Here’s a reflective exploration of this question:\\n\\n---\\n\\n### 1. **Subjectivity and Personal Perspective**  \\n   - **No One-Size-Fits All:** The meaning of life is deeply personal. What gives one person purpose may not resonate with another.  \\n   - **Values and Goals:** People often find meaning through relationships, passions, achievements, or spiritual beliefs. For some, it’s about pursuing happiness; for others, it’s about contributing to the world or seeking truth.  \\n\\n---\\n\\n### 2. **Philosophical and Existential Approaches**  \\n   - **Existentialism:** Thinkers like Jean-Paul Sartre and Simone de Beauvoir argue that life has no inherent meaning, and we must create our own purpose. This perspective emphasizes freedom and the responsibility to shape our lives.  \\n   - **Absurdism:** Philosophers like Albert Camus suggest that life is meaningless in a vast, indifferent universe, but we can still find joy in the act of living.  \\n\\n---\\n\\n### 3. **Religious and Spiritual Views**  \\n   - **Divine Purpose:** Many religions (e.g., Christianity, Islam, Buddhism) posit that life has meaning through faith, spiritual growth, or communion with a higher power.  \\n   - **Suffering and Meaning:** Some traditions explore how suffering can serve as a catalyst for growth, resilience, or enlightenment.  \\n\\n---\\n\\n### 4. **Practical and Human-Centered Approaches**  \\n   - **Community and Relationships:** Meaning can be found in relationships, shared experiences, and contributing to others\\' well-being.  \\n   - **Hobbies and Creativity:** Engaging in art, science, or other pursuits can bring fulfillment and a sense of purpose.  \\n\\n---\\n\\n### 5. **The Human Experience**  \\n   - **Search for Meaning:** The quest for meaning is a lifelong journey. It can be both a source of wonder and anxiety, as the fear of futility or the fear of emptiness lingers.  \\n   - **Acceptance and Growth:** Some find meaning in embracing life’s uncertainties, learning from challenges, and discovering that meaning is not absolute but fluid.  \\n\\n---\\n\\n### 6. **The Role of Perspective**  \\n   - **Mindfulness and Presence:** Living in the moment, being grateful, and appreciating small joys can help illuminate the meaning of life as it unfolds.  \\n   - **Legacy and Impact:** Contributing to the world—through ideas, art, or acts of kindness—can leave a lasting mark on others.  \\n\\n---\\n\\n### Conclusion  \\nThe meaning of life is ultimately a *personal discovery* rather than a fixed answer. It is shaped by culture, beliefs, experiences, and the choices we make. Whether it’s found in relationships, creativity, or spiritual practice, the search for meaning is as valuable as the journey itself. What matters most is how we live, love, and grow—because that is what gives life its depth and resonance.  \\n\\nIn the end, the meaning of life is not about finding a single answer but about *living intentionally* and *seeking meaning in the act of living*. 🌟')], created=1746365089, model='qwen3:1.7b', object='text_completion', system_fingerprint='fp_ollama', usage=CompletionUsage(completion_tokens=1022, prompt_tokens=15, total_tokens=1037, completion_tokens_details=None, prompt_tokens_details=None))"
      ]
     },
     "execution_count": 50,
     "metadata": {},
     "output_type": "execute_result"
    }
   ],
   "source": [
    "completion = client.completions.create(\n",
    "    model=\"qwen3:1.7b\",\n",
    "    prompt=\"what is the meaning of life?\",\n",
    ")\n",
    "completion\n"
   ]
  },
  {
   "cell_type": "code",
   "execution_count": 38,
   "id": "d92bf56c-c145-4bb4-beec-1c633fd97ffc",
   "metadata": {},
   "outputs": [
    {
     "data": {
      "text/plain": [
       "Embedding(embedding=[0.010070996, -0.0017594718, 0.050072208, 0.046929747, 0.054916814, 0.008599741, 0.10544145, -0.025878085, 0.12958127, 0.031952336, -0.044480752, -0.008985282, -0.0005099096, -0.063741684, -0.016089534, 0.046625037, -0.02206096, -0.158139, -0.07284878, -0.061321773, -0.06587767, 0.054177605, -0.062130112, 0.03890833, -0.04580114, 0.054935798, -0.03526723, 0.01261332, 0.042513832, -0.007927431, -0.019029437, 0.060983848, 0.036926784, 0.013464795, -0.025808929, -0.043487452, 0.07262336, -0.048508026, 0.004285593, -0.029438252, -0.029134871, -0.0329069, -0.018345134, 0.015558392, -0.011713061, 0.015303607, -0.009391869, 0.025963942, 0.09527477, -0.015497657, -0.024581216, 0.009084218, -0.07661165, 0.015987631, 0.04955477, 0.115980916, 0.0009802964, -0.020319799, 0.092332706, 0.008494801, -0.057057824, 0.068866305, -0.076607026, 0.06931918, 0.09223655, -0.05548624, -0.053620894, 0.00844324, -0.06315959, -0.06639689, -0.025167258, 0.018891001, 0.061389998, -0.028247941, 0.03624428, 0.0011042109, 0.060672123, -0.06755125, -0.008125985, -0.012737455, 0.030953335, -0.063800484, -0.07451025, 0.11916554, 0.012553882, 0.06532673, 0.014824713, 0.05142574, -0.085185364, 0.010257566, -0.00777324, -0.03558535, -0.11538988, -0.030666415, -0.08325267, 0.013690015, 0.056588713, -0.040882617, 0.04267284, 0.02215473, 0.046853837, -0.051355954, 0.030175846, 0.0071998844, -0.0041790064, -0.031146565, 0.07788333, 0.03420588, 0.061380338, 0.007510875, -0.03625147, -0.08457678, 0.021795187, -0.019397821, -0.03984967, 0.054795727, -0.033695202, 0.018102791, -0.10553996, -0.050397184, -0.011542894, 0.037819512, 0.022170842, 0.08049208, 0.007816833, -0.016834471, -0.059413377, -7.227307e-33, 0.13531445, -0.011213875, 0.09230261, 0.035974577, 0.03963847, -0.05498514, -0.035069015, -0.0037263609, -0.019559953, -0.034966785, -0.005708432, -0.014629091, -0.024276797, -0.048383806, 0.047770962, -0.017076964, -0.060947645, 0.0059446273, -0.08305793, 0.08434175, -0.104665585, 0.041639265, -0.036683165, -0.008083393, -0.028216355, -0.043193642, 0.035999633, 0.07498753, 0.0564538, 0.011849054, 0.0984651, 0.10484246, -0.02186498, 0.045994826, -0.026346032, -0.05092388, -0.014708724, -0.0063834824, -0.085867085, 0.028602744, -0.05357375, 0.056528833, -0.059763886, 0.012410296, 0.066207744, -0.013472662, 0.038324825, -0.088901944, -0.057445474, 0.031993624, -0.034495458, 0.023630358, 0.014458135, -0.041596532, 0.06799366, 0.031207247, 0.069696635, -0.03503786, -0.0033100722, 0.04933092, -0.013344457, -0.0034972166, 0.05077662, 0.078672945, 0.037620567, -0.011580799, 0.03812417, 0.042014077, -0.012800022, -0.07894722, 0.009022784, 0.013366015, 0.024159478, 0.009777292, -0.010906573, -0.081612274, 0.026987161, -0.029661827, -0.0043355087, 0.013011258, -0.035210643, -0.019684887, 0.055351302, -0.061242145, -0.055006742, 0.012528421, -0.019175753, -0.012560364, -0.015807414, -0.06942032, -0.044893198, -0.048941825, 0.048249014, -0.10446327, -0.10786194, 3.5877417e-33, -0.00046947727, -0.08636081, -0.087853074, 0.007170724, -0.007416113, -0.016620837, 0.04527272, 0.067504734, -0.042886138, 0.086359344, 0.0455529, 0.067983665, 0.009930444, -0.003040371, 0.058509182, -0.035567172, 0.03618051, 0.06615612, -0.037798073, -0.062269565, -0.044531867, 0.077249475, 0.04343234, -0.02126778, -0.021633696, 0.06227751, -0.03914139, 0.028114958, -0.0130577255, 0.051113803, -0.036822557, 0.054577176, -0.06644747, 0.022884699, 0.0048167496, 0.09043405, 0.0051002074, -0.08309604, -0.05509676, 0.073150165, -0.110496715, -0.020257298, 0.11254061, -0.053299073, -0.057593193, -0.023905676, 0.056623004, 0.12725256, 0.035959374, -0.04395069, 0.017003274, -0.0248374, 0.07269715, 0.043164223, 0.08047663, -0.019504776, -0.034397747, 0.09668911, 0.05188597, 0.0107505, 0.040233742, 0.0021946717, -0.0075854887, 0.0016714964, 0.014185998, 0.02039631, -0.023103092, 0.021491544, -0.009236695, -0.050526045, -0.016258575, -0.089958526, -0.060685795, 0.081008874, 0.002456369, 0.041595254, 0.04372954, -0.02516846, -0.09529972, 0.08869837, -0.09840901, -0.0048626587, 0.03534256, 0.01415938, -0.06457744, -0.075976975, 0.012412164, -0.05022076, -0.055757977, -0.056982484, -0.018489609, -0.002195132, -0.0022042876, 0.035278473, -0.054716177, -1.430923e-08, -0.007930182, 0.026702162, 0.0022585166, 0.010008587, -0.021680003, -0.021566942, 0.1113891, 0.004639621, 0.03784027, 0.0039622346, -0.066897295, -0.028295074, -0.04432235, 0.07120315, 0.018729119, -0.049073968, -0.103948645, -0.043614693, 0.010182228, 0.04179206, -0.01354341, -0.033851653, -0.025069656, -0.013597004, 0.0034273623, 0.033077452, -0.021843445, 0.021919323, 0.07144479, 0.020509098, 0.02443664, 0.035892475, -0.0009498418, -0.06133699, -0.085383005, 0.0074245734, -0.038788106, 0.07989336, -0.025575949, -0.06045109, 0.060581904, 0.08235657, -0.05670546, 0.004846164, 0.04513214, 0.023778295, 0.043513507, 0.09104256, -0.05140234, -0.011230106, -0.068853416, 0.007250826, 0.07283071, -0.04336814, 0.025920192, -0.114091575, -0.009537435, 0.02220312, 0.026747178, 0.0037276857, 0.01593797, 0.0035981575, -0.020675201, 0.03354614], index=0, object='embedding')"
      ]
     },
     "execution_count": 38,
     "metadata": {},
     "output_type": "execute_result"
    }
   ],
   "source": [
    "model = client.models.retrieve(\"llama3.2\")\n",
    "\n",
    "embeddings = client.embeddings.create(\n",
    "    model=\"all-minilm\",\n",
    "    input=[\"why is the sky blue?\", \"why is the grass green?\", \"what is the meaning of life?\"],\n",
    ")\n",
    "embeddings.data[0]"
   ]
  },
  {
   "cell_type": "code",
   "execution_count": 51,
   "id": "9318ff1e-b524-4524-af2d-ad22e5bf26aa",
   "metadata": {},
   "outputs": [
    {
     "name": "stdout",
     "output_type": "stream",
     "text": [
      "friends=[FriendInfo(name='Ollama', age=22, is_available=True), FriendInfo(name='Alonso', age=23, is_available=True)]\n"
     ]
    }
   ],
   "source": [
    "from pydantic import BaseModel\n",
    "from openai import OpenAI\n",
    "\n",
    "client = OpenAI(base_url=\"http://localhost:11434/v1\", api_key=\"ollama\")\n",
    "\n",
    "# Define the schema for the response\n",
    "class FriendInfo(BaseModel):\n",
    "    name: str\n",
    "    age: int \n",
    "    is_available: bool\n",
    "\n",
    "class FriendList(BaseModel):\n",
    "    friends: list[FriendInfo]\n",
    "\n",
    "try:\n",
    "    completion = client.beta.chat.completions.parse(\n",
    "        temperature=0,\n",
    "        model=\"gemma3:1b\",\n",
    "        messages=[\n",
    "            {\"role\": \"user\", \"content\": \"I have two friends. The first is Ollama 22 years old busy saving the world, and the second is Alonso 23 years old and wants to hang out. Return a list of friends in JSON format\"}\n",
    "        ],\n",
    "        response_format=FriendList,\n",
    "    )\n",
    "\n",
    "    friends_response = completion.choices[0].message\n",
    "    if friends_response.parsed:\n",
    "        print(friends_response.parsed)\n",
    "    elif friends_response.refusal:\n",
    "        print(friends_response.refusal)\n",
    "except Exception as e:\n",
    "    print(f\"Error: {e}\")"
   ]
  },
  {
   "cell_type": "code",
   "execution_count": null,
   "id": "d576d63d-d09a-49f5-a282-ecb7bcf22c36",
   "metadata": {},
   "outputs": [],
   "source": []
  }
 ],
 "metadata": {
  "kernelspec": {
   "display_name": "Python 3 (ipykernel)",
   "language": "python",
   "name": "python3"
  },
  "language_info": {
   "codemirror_mode": {
    "name": "ipython",
    "version": 3
   },
   "file_extension": ".py",
   "mimetype": "text/x-python",
   "name": "python",
   "nbconvert_exporter": "python",
   "pygments_lexer": "ipython3",
   "version": "3.10.17"
  }
 },
 "nbformat": 4,
 "nbformat_minor": 5
}
